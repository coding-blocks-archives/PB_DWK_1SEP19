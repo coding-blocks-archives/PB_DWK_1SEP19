{
 "cells": [
  {
   "cell_type": "markdown",
   "metadata": {},
   "source": [
    "# Web API"
   ]
  },
  {
   "cell_type": "code",
   "execution_count": 1,
   "metadata": {},
   "outputs": [],
   "source": [
    "import requests"
   ]
  },
  {
   "cell_type": "code",
   "execution_count": 2,
   "metadata": {},
   "outputs": [],
   "source": [
    "facebook_id = 4\n",
    "url = 'https://graph.facebook.com/{}/picture?type=large'.format(facebook_id)\n",
    "result = requests.get(url)"
   ]
  },
  {
   "cell_type": "code",
   "execution_count": 3,
   "metadata": {},
   "outputs": [
    {
     "data": {
      "text/plain": [
       "requests.models.Response"
      ]
     },
     "execution_count": 3,
     "metadata": {},
     "output_type": "execute_result"
    }
   ],
   "source": [
    "type(result)"
   ]
  },
  {
   "cell_type": "code",
   "execution_count": 4,
   "metadata": {},
   "outputs": [
    {
     "name": "stdout",
     "output_type": "stream",
     "text": [
      "<Response [200]>\n"
     ]
    }
   ],
   "source": [
    "print(result)"
   ]
  },
  {
   "cell_type": "code",
   "execution_count": 6,
   "metadata": {},
   "outputs": [],
   "source": [
    "with open('zuck.jpg', 'wb') as f:\n",
    "    f.write(result.content)"
   ]
  },
  {
   "cell_type": "code",
   "execution_count": 9,
   "metadata": {},
   "outputs": [],
   "source": [
    "url = 'http://quotes.rest/qod.json?category=inspire'"
   ]
  },
  {
   "cell_type": "code",
   "execution_count": 10,
   "metadata": {},
   "outputs": [
    {
     "name": "stdout",
     "output_type": "stream",
     "text": [
      "<Response [200]>\n"
     ]
    }
   ],
   "source": [
    "response = requests.get(url)\n",
    "print(response)"
   ]
  },
  {
   "cell_type": "code",
   "execution_count": 11,
   "metadata": {},
   "outputs": [
    {
     "name": "stdout",
     "output_type": "stream",
     "text": [
      "{\n",
      "    \"success\": {\n",
      "        \"total\": 1\n",
      "    },\n",
      "    \"contents\": {\n",
      "        \"quotes\": [\n",
      "            {\n",
      "                \"quote\": \"You either walk inside your story and own it or you stand outside your story and hustle for your worthiness.\",\n",
      "                \"length\": \"108\",\n",
      "                \"author\": \"Brené Brown\",\n",
      "                \"tags\": [\n",
      "                    \"inspire\",\n",
      "                    \"story\",\n",
      "                    \"tod\"\n",
      "                ],\n",
      "                \"category\": \"inspire\",\n",
      "                \"date\": \"2019-10-13\",\n",
      "                \"permalink\": \"https://theysaidso.com/quote/brene-brown-you-either-walk-inside-your-story-and-own-it-or-you-stand-outside-yo\",\n",
      "                \"title\": \"Inspiring Quote of the day\",\n",
      "                \"background\": \"https://theysaidso.com/img/bgs/man_on_the_mountain.jpg\",\n",
      "                \"id\": \"zK0CExEHGmiBkiz0v5FyMweF\"\n",
      "            }\n",
      "        ],\n",
      "        \"copyright\": \"2017-19 theysaidso.com\"\n",
      "    }\n",
      "}\n"
     ]
    }
   ],
   "source": [
    "print(response.text)"
   ]
  },
  {
   "cell_type": "code",
   "execution_count": 12,
   "metadata": {},
   "outputs": [],
   "source": [
    "def get_request_data(code, name):\n",
    "    key = 'a0be88dbdd2593c0b176df3a1d01a100'\n",
    "    return {\n",
    "        \"api_dev_key\": key,\n",
    "        \"api_option\": \"paste\",\n",
    "        \"api_paste_code\": code,\n",
    "        \"api_paste_name\": name\n",
    "    }"
   ]
  },
  {
   "cell_type": "code",
   "execution_count": 13,
   "metadata": {},
   "outputs": [],
   "source": [
    "url = 'https://pastebin.com/api/api_post.php'"
   ]
  },
  {
   "cell_type": "code",
   "execution_count": 14,
   "metadata": {},
   "outputs": [],
   "source": [
    "request_data = get_request_data('just a paste.' , 'first_pastebin_psate')"
   ]
  },
  {
   "cell_type": "code",
   "execution_count": 15,
   "metadata": {},
   "outputs": [
    {
     "name": "stdout",
     "output_type": "stream",
     "text": [
      "{'api_dev_key': 'a0be88dbdd2593c0b176df3a1d01a100', 'api_option': 'paste', 'api_paste_code': 'just a paste.', 'api_paste_name': 'first_pastebin_psate'}\n"
     ]
    }
   ],
   "source": [
    "print(request_data)"
   ]
  },
  {
   "cell_type": "code",
   "execution_count": 16,
   "metadata": {},
   "outputs": [],
   "source": [
    "response = requests.post(url, data=request_data)"
   ]
  },
  {
   "cell_type": "code",
   "execution_count": 17,
   "metadata": {},
   "outputs": [
    {
     "data": {
      "text/plain": [
       "'https://pastebin.com/NjNf5VTc'"
      ]
     },
     "execution_count": 17,
     "metadata": {},
     "output_type": "execute_result"
    }
   ],
   "source": [
    "response.text"
   ]
  },
  {
   "cell_type": "code",
   "execution_count": 20,
   "metadata": {},
   "outputs": [],
   "source": [
    "from bs4 import BeautifulSoup\n",
    "import html5lib"
   ]
  },
  {
   "cell_type": "code",
   "execution_count": 21,
   "metadata": {},
   "outputs": [],
   "source": [
    "url = 'https://www.passiton.com/inspirational-quotes'"
   ]
  },
  {
   "cell_type": "code",
   "execution_count": 22,
   "metadata": {},
   "outputs": [],
   "source": [
    "response = requests.get(url)"
   ]
  },
  {
   "cell_type": "code",
   "execution_count": 24,
   "metadata": {},
   "outputs": [],
   "source": [
    "soup = BeautifulSoup(response.content, \"html5lib\")"
   ]
  },
  {
   "cell_type": "code",
   "execution_count": 26,
   "metadata": {},
   "outputs": [],
   "source": [
    "#print(soup)"
   ]
  },
  {
   "cell_type": "code",
   "execution_count": 31,
   "metadata": {},
   "outputs": [],
   "source": [
    "soup.find(id=\"all_quotes\").findAll('img')[0].attrs['src']\n",
    "list_of_images = soup.find(id=\"all_quotes\").findAll('img')"
   ]
  },
  {
   "cell_type": "code",
   "execution_count": 33,
   "metadata": {},
   "outputs": [
    {
     "name": "stdout",
     "output_type": "stream",
     "text": [
      "https://assets.passiton.com/quotes/quote_artwork/7994/medium/20191011_friday_quote_alt.jpg?1570203547\n",
      "https://assets.passiton.com/quotes/quote_artwork/7993/medium/20191010_thursday_quote.jpg?1570141483\n",
      "https://assets.passiton.com/quotes/quote_artwork/7992/medium/20191009_wednesday_quote.jpg?1570141461\n",
      "https://assets.passiton.com/quotes/quote_artwork/7995/medium/20191008_tuesday_quote_alternate.jpg?1570209990\n",
      "https://assets.passiton.com/quotes/quote_artwork/7991/medium/20191007_monday_quote.jpg?1570141391\n",
      "https://assets.passiton.com/quotes/quote_artwork/7990/medium/20191004_friday_quote.jpg?1569594621\n",
      "https://assets.passiton.com/quotes/quote_artwork/7989/medium/20191003_thursday_quote.jpg?1569594600\n",
      "https://assets.passiton.com/quotes/quote_artwork/7988/medium/20191002_wednesday_quote.jpg?1569594577\n",
      "https://assets.passiton.com/quotes/quote_artwork/7987/medium/20191001_tuesday_quote.jpg?1569594555\n",
      "https://assets.passiton.com/quotes/quote_artwork/7986/medium/20190930_monday_quote.jpg?1569594529\n",
      "https://assets.passiton.com/quotes/quote_artwork/6881/medium/20190927_friday_quote.jpg?1569022621\n",
      "https://assets.passiton.com/quotes/quote_artwork/7065/medium/20190926_thursday_quote.jpg?1569022585\n",
      "https://assets.passiton.com/quotes/quote_artwork/4386/medium/20190925_wednesday_quote.jpg?1569022553\n",
      "https://assets.passiton.com/quotes/quote_artwork/6420/medium/20190924_tuesday_quote.jpg?1569022530\n",
      "https://assets.passiton.com/quotes/quote_artwork/6923/medium/20190923_monday_quote.jpg?1569022506\n",
      "https://assets.passiton.com/quotes/quote_artwork/7984/medium/20190920_friday_quote.jpg?1568408574\n",
      "https://assets.passiton.com/quotes/quote_artwork/7985/medium/20190919_thursday_quote_alternate2.jpg?1568417133\n",
      "https://assets.passiton.com/quotes/quote_artwork/3195/medium/20190918_wednesday_quote.jpg?1568408536\n",
      "https://assets.passiton.com/quotes/quote_artwork/4804/medium/20190917_tuesday_quote.jpg?1568408515\n",
      "https://assets.passiton.com/quotes/quote_artwork/3575/medium/20190916_monday_quote.jpg?1568408490\n",
      "https://assets.passiton.com/quotes/quote_artwork/7983/medium/20190913_friday_quote.jpg?1567805769\n",
      "https://assets.passiton.com/quotes/quote_artwork/7982/medium/20190912_thursday_quote.jpg?1567805308\n",
      "https://assets.passiton.com/quotes/quote_artwork/7981/medium/20190911_wednesday_quote.jpg?1567805235\n",
      "https://assets.passiton.com/quotes/quote_artwork/7533/medium/20190910_tuesday_quote.jpg?1567805212\n",
      "https://assets.passiton.com/quotes/quote_artwork/7980/medium/20190909_monday_quote.jpg?1567805176\n",
      "https://assets.passiton.com/quotes/quote_artwork/7979/medium/20190906_friday_quote.jpg?1567121868\n",
      "https://assets.passiton.com/quotes/quote_artwork/7978/medium/20190905_thursday_quote.jpg?1567121845\n",
      "https://assets.passiton.com/quotes/quote_artwork/7977/medium/20190904_wednesday_quote.jpg?1567121822\n",
      "https://assets.passiton.com/quotes/quote_artwork/7976/medium/20190903_tuesday_quote.jpg?1567121779\n",
      "https://assets.passiton.com/quotes/quote_artwork/7975/medium/20190902_monday_quote.jpg?1567121753\n",
      "https://assets.passiton.com/quotes/quote_artwork/7564/medium/20190830_friday_quote.jpg?1566582836\n",
      "https://assets.passiton.com/quotes/quote_artwork/7974/medium/20190829_thursday_quote.jpg?1566582807\n"
     ]
    }
   ],
   "source": [
    "for index, img in enumerate(list_of_images):\n",
    "    print(img.attrs['src'])\n",
    "    name = 'img/quotes-{}'.format(index)\n",
    "    with open(name + '.jpg', 'wb') as f:\n",
    "        bin_img = requests.get(img.attrs['src'])\n",
    "        f.write(bin_img.content)"
   ]
  },
  {
   "cell_type": "code",
   "execution_count": null,
   "metadata": {},
   "outputs": [],
   "source": []
  },
  {
   "cell_type": "code",
   "execution_count": null,
   "metadata": {},
   "outputs": [],
   "source": []
  },
  {
   "cell_type": "code",
   "execution_count": null,
   "metadata": {},
   "outputs": [],
   "source": []
  },
  {
   "cell_type": "code",
   "execution_count": null,
   "metadata": {},
   "outputs": [],
   "source": []
  },
  {
   "cell_type": "code",
   "execution_count": null,
   "metadata": {},
   "outputs": [],
   "source": []
  },
  {
   "cell_type": "code",
   "execution_count": null,
   "metadata": {},
   "outputs": [],
   "source": []
  },
  {
   "cell_type": "code",
   "execution_count": null,
   "metadata": {},
   "outputs": [],
   "source": []
  },
  {
   "cell_type": "code",
   "execution_count": null,
   "metadata": {},
   "outputs": [],
   "source": []
  },
  {
   "cell_type": "code",
   "execution_count": null,
   "metadata": {},
   "outputs": [],
   "source": []
  },
  {
   "cell_type": "code",
   "execution_count": null,
   "metadata": {},
   "outputs": [],
   "source": []
  },
  {
   "cell_type": "code",
   "execution_count": null,
   "metadata": {},
   "outputs": [],
   "source": []
  },
  {
   "cell_type": "code",
   "execution_count": null,
   "metadata": {},
   "outputs": [],
   "source": []
  },
  {
   "cell_type": "code",
   "execution_count": null,
   "metadata": {},
   "outputs": [],
   "source": []
  }
 ],
 "metadata": {
  "kernelspec": {
   "display_name": "Python 3",
   "language": "python",
   "name": "python3"
  },
  "language_info": {
   "codemirror_mode": {
    "name": "ipython",
    "version": 3
   },
   "file_extension": ".py",
   "mimetype": "text/x-python",
   "name": "python",
   "nbconvert_exporter": "python",
   "pygments_lexer": "ipython3",
   "version": "3.6.5rc1"
  }
 },
 "nbformat": 4,
 "nbformat_minor": 2
}
